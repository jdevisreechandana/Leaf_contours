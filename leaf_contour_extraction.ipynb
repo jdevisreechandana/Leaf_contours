{
  "nbformat": 4,
  "nbformat_minor": 0,
  "metadata": {
    "colab": {
      "provenance": []
    },
    "kernelspec": {
      "name": "python3",
      "display_name": "Python 3"
    },
    "language_info": {
      "name": "python"
    }
  },
  "cells": [
    {
      "cell_type": "code",
      "execution_count": null,
      "metadata": {
        "id": "00t1Tti_zWRe"
      },
      "outputs": [],
      "source": [
        "import cv2\n",
        "import numpy as np\n",
        "from google.colab.patches import cv2_imshow\n",
        "\n",
        "\n",
        "\n",
        "\n",
        "image = cv2.imread(\"IMG_7186.JPG\")\n",
        "\n",
        "#RGB image to Grayscale\n",
        "gray = cv2.cvtColor(image, cv2.COLOR_BGR2GRAY)\n",
        "\n",
        "# Apply a bilateral filter to preserve edges while reducing noise\n",
        "#filtered = cv2.bilateralFilter(gray, 9, 75, 75)\n",
        "\n",
        "#Apply a Gaussian blur on the image\n",
        "filterred = cv2.GaussianBlur(gray, (5, 5), 0)\n",
        "\n",
        "# Get edges using Canny with adjusted parameters\n",
        "sigma=0.33 # Adjust sigma for more robust edge detection\n",
        "v = np.median(filtered)\n",
        "lower = int(max(0, (1.0 - sigma) * v))\n",
        "upper = int(min(255, (1.0 + sigma) * v))\n",
        "\n",
        "\n",
        "edges = cv2.Canny(filtered, lower, upper)\n",
        "\n",
        "# Find contours from the edge map\n",
        "contours, hierarchy = cv2.findContours(edges, cv2.RETR_EXTERNAL, cv2.CHAIN_APPROX_SIMPLE)\n",
        "\n",
        "# Create a copy of the original image to draw on\n",
        "image_with_contours = image.copy()\n",
        "\n",
        "# Draw the contours (now using the actual contours found)\n",
        "cv2.drawContours(image_with_contours, contours, -1, (255, 0, 0), 30)\n",
        "\n",
        "# Display results\n",
        "cv2_imshow(image)\n",
        "cv2_imshow(np.hstack([edges]))\n",
        "cv2_imshow(image_with_contours)"
      ]
    },
    {
      "cell_type": "code",
      "source": [
        "import cv2\n",
        "import numpy as np\n",
        "\n",
        "from scipy.interpolate import splprep, splev\n",
        "from google.colab.patches import cv2_imshow\n",
        "\n",
        "\n",
        "img = cv2.imread('leaf2.JPG')\n",
        "if img is None:\n",
        "    raise ValueError(\"Image not loaded - check path\")\n",
        "img = cv2.GaussianBlur(img, (7, 7), 0)\n",
        "hsv = cv2.cvtColor(img, cv2.COLOR_BGR2HSV)\n",
        "cv2_imshow(hsv)\n",
        "lower_green = np.array([50, 35, 40])\n",
        "upper_green = np.array([110, 255, 255])\n",
        "mask = cv2.inRange(hsv, lower_green, upper_green)\n",
        "cv2_imshow(np.hstack([mask]))\n",
        "\n",
        "\n",
        "    # # Find contours\n",
        "contours, _ = cv2.findContours(mask, cv2.RETR_EXTERNAL, cv2.CHAIN_APPROX_SIMPLE)\n",
        "if contours:\n",
        "         leaf_contour = max(contours, key=cv2.contourArea)\n",
        "\n",
        "cv2.drawContours(img, leaf_contour, -1, (255,0,0), 10)\n",
        "cv2_imshow(img)\n"
      ],
      "metadata": {
        "id": "2tgmjAxFzgoo"
      },
      "execution_count": null,
      "outputs": []
    }
  ]
}